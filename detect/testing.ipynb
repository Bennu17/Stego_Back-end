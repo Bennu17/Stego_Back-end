{
 "cells": [
  {
   "cell_type": "code",
   "execution_count": 1,
   "metadata": {},
   "outputs": [
    {
     "name": "stdout",
     "output_type": "stream",
     "text": [
      "1/1 [==============================] - 4s 4s/step\n",
      "1/1 [==============================] - 0s 307ms/step\n",
      "1/1 [==============================] - 0s 284ms/step\n",
      "1/1 [==============================] - 0s 311ms/step\n",
      "1/1 [==============================] - 0s 301ms/step\n",
      "1/1 [==============================] - 0s 317ms/step\n",
      "1/1 [==============================] - 0s 308ms/step\n",
      "1/1 [==============================] - 0s 311ms/step\n",
      "1/1 [==============================] - 0s 298ms/step\n",
      "1/1 [==============================] - 0s 310ms/step\n",
      "Feature vectors:\n",
      " [[0. 0. 0. ... 0. 0. 0.]\n",
      " [0. 0. 0. ... 0. 0. 0.]\n",
      " [0. 0. 0. ... 0. 0. 0.]\n",
      " ...\n",
      " [0. 0. 0. ... 0. 0. 0.]\n",
      " [0. 0. 0. ... 0. 0. 0.]\n",
      " [0. 0. 0. ... 0. 0. 0.]]\n"
     ]
    },
    {
     "name": "stderr",
     "output_type": "stream",
     "text": [
      "c:\\Users\\Administrator\\AppData\\Local\\Programs\\Python\\Python310\\lib\\site-packages\\sklearn\\cluster\\_kmeans.py:870: FutureWarning: The default value of `n_init` will change from 10 to 'auto' in 1.4. Set the value of `n_init` explicitly to suppress the warning\n",
      "  warnings.warn(\n"
     ]
    },
    {
     "name": "stdout",
     "output_type": "stream",
     "text": [
      "Image C:/Users/Administrator/Desktop/testing\\santoshi_original.png is in cluster 0\n",
      "Image C:/Users/Administrator/Desktop/testing\\santoshi_original1.png is in cluster 1\n",
      "Image C:/Users/Administrator/Desktop/testing\\santoshi_original2.png is in cluster 0\n",
      "Image C:/Users/Administrator/Desktop/testing\\santoshi_original3.png is in cluster 0\n",
      "Image C:/Users/Administrator/Desktop/testing\\santoshi_original4.png is in cluster 0\n",
      "Image C:/Users/Administrator/Desktop/testing\\santoshi_original5.png is in cluster 0\n",
      "Image C:/Users/Administrator/Desktop/testing\\santoshi_original6.png is in cluster 0\n",
      "Image C:/Users/Administrator/Desktop/testing\\santoshi_original7.png is in cluster 0\n",
      "Image C:/Users/Administrator/Desktop/testing\\santoshi_original8.png is in cluster 0\n",
      "Image C:/Users/Administrator/Desktop/testing\\santoshi_original9.png is in cluster 0\n"
     ]
    }
   ],
   "source": [
    "import numpy as np\n",
    "\n",
    "import os\n",
    "\n",
    "from tensorflow.keras.applications.resnet50 import ResNet50, preprocess_input\n",
    "from tensorflow.keras.preprocessing.image import load_img, img_to_array\n",
    "\n",
    "from sklearn.cluster import KMeans\n",
    "\n",
    "from sklearn.preprocessing import StandardScaler\n",
    "\n",
    "from PIL import Image, UnidentifiedImageError\n",
    "\n",
    "\n",
    "\n",
    "\n",
    "model = ResNet50(weights='imagenet', include_top=False, input_shape=(255, 255, 3))\n",
    "\n",
    "\n",
    "\n",
    "def extract_features(image_path):\n",
    "\n",
    "  img = load_img(image_path, target_size=(255, 255))\n",
    "\n",
    "  img_array = img_to_array(img)\n",
    "\n",
    "  img_array = np.expand_dims(img_array, axis=0)\n",
    "\n",
    "  img_array = preprocess_input(img_array)\n",
    "\n",
    "   \n",
    "\n",
    "\n",
    "  features = model.predict(img_array)\n",
    "\n",
    "  return features.flatten()\n",
    "\n",
    "\n",
    "\n",
    "\n",
    "\n",
    "folder_path = \"C:/Users/Administrator/Desktop/testing\"\n",
    "\n",
    "\n",
    "\n",
    "\n",
    "image_paths = []\n",
    "\n",
    "file_names = os.listdir(folder_path)\n",
    "\n",
    "\n",
    "\n",
    "for file_name in file_names:\n",
    "\n",
    "  if not file_name.startswith('.') and not file_name.endswith('.txt'):\n",
    "\n",
    "    file_path = os.path.join(folder_path, file_name)\n",
    "\n",
    "    try:\n",
    "\n",
    "      img = Image.open(file_path)\n",
    "\n",
    "      image_paths.append(file_path)\n",
    "\n",
    "    except UnidentifiedImageError as e:\n",
    "\n",
    "      print(f\"Error processing image {file_path}: {e}\")\n",
    "\n",
    "\n",
    "\n",
    "\n",
    "X = np.array([extract_features(image_path) for image_path in image_paths])\n",
    "\n",
    "\n",
    "\n",
    "\n",
    "print(\"Feature vectors:\\n\", X)\n",
    "\n",
    "\n",
    "\n",
    "\n",
    "scaler = StandardScaler()\n",
    "\n",
    "X_scaled = scaler.fit_transform(X)\n",
    "\n",
    "\n",
    "\n",
    "\n",
    "\n",
    "\n",
    "kmeans = KMeans(n_clusters=2, random_state=42)\n",
    "\n",
    "labels = kmeans.fit_predict(X_scaled)\n",
    "\n",
    "\n",
    "\n",
    "\n",
    "for i, label in enumerate(labels):\n",
    "\n",
    "  print(f'Image {image_paths[i]} is in cluster {label}')\n",
    "\n"
   ]
  },
  {
   "cell_type": "code",
   "execution_count": 2,
   "metadata": {},
   "outputs": [
    {
     "name": "stdout",
     "output_type": "stream",
     "text": [
      "hello\n"
     ]
    }
   ],
   "source": [
    "print(\"hello\")"
   ]
  },
  {
   "cell_type": "code",
   "execution_count": null,
   "metadata": {},
   "outputs": [],
   "source": []
  }
 ],
 "metadata": {
  "kernelspec": {
   "display_name": "Python 3",
   "language": "python",
   "name": "python3"
  },
  "language_info": {
   "codemirror_mode": {
    "name": "ipython",
    "version": 3
   },
   "file_extension": ".py",
   "mimetype": "text/x-python",
   "name": "python",
   "nbconvert_exporter": "python",
   "pygments_lexer": "ipython3",
   "version": "3.10.7"
  }
 },
 "nbformat": 4,
 "nbformat_minor": 2
}
